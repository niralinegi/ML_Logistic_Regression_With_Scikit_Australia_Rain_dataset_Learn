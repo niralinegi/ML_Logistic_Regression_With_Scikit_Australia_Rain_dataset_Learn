{
 "cells": [
  {
   "cell_type": "code",
   "execution_count": 26,
   "id": "abc6c182",
   "metadata": {},
   "outputs": [],
   "source": [
    "import joblib\n",
    "import numpy as np\n",
    "import pandas as pd\n",
    "from sklearn.metrics import accuracy_score"
   ]
  },
  {
   "cell_type": "markdown",
   "id": "4bd32820",
   "metadata": {},
   "source": [
    "### Using the Saved model to predict Rain in Australia dataset"
   ]
  },
  {
   "cell_type": "code",
   "execution_count": 3,
   "id": "689ed5ac",
   "metadata": {},
   "outputs": [],
   "source": [
    "aussie_rain2 = joblib.load('aussie_rain_model.joblib')"
   ]
  },
  {
   "cell_type": "markdown",
   "id": "3ef5a20d",
   "metadata": {},
   "source": [
    "#### Let's use the loaded model to make predictions on a single new input."
   ]
  },
  {
   "cell_type": "code",
   "execution_count": 14,
   "id": "d4b97db4",
   "metadata": {},
   "outputs": [
    {
     "data": {
      "text/plain": [
       "LogisticRegression(solver='liblinear')"
      ]
     },
     "execution_count": 14,
     "metadata": {},
     "output_type": "execute_result"
    }
   ],
   "source": [
    "aussie_rain2['model']"
   ]
  },
  {
   "cell_type": "code",
   "execution_count": 19,
   "id": "b7a8f3e0",
   "metadata": {},
   "outputs": [
    {
     "data": {
      "text/plain": [
       "{'model': LogisticRegression(solver='liblinear'),\n",
       " 'imputer': SimpleImputer(),\n",
       " 'scaler': MinMaxScaler(),\n",
       " 'encoder': OneHotEncoder(handle_unknown='ignore', sparse=False),\n",
       " 'input_cols': ['Location',\n",
       "  'MinTemp',\n",
       "  'MaxTemp',\n",
       "  'Rainfall',\n",
       "  'Evaporation',\n",
       "  'Sunshine',\n",
       "  'WindGustDir',\n",
       "  'WindGustSpeed',\n",
       "  'WindDir9am',\n",
       "  'WindDir3pm',\n",
       "  'WindSpeed9am',\n",
       "  'WindSpeed3pm',\n",
       "  'Humidity9am',\n",
       "  'Humidity3pm',\n",
       "  'Pressure9am',\n",
       "  'Pressure3pm',\n",
       "  'Cloud9am',\n",
       "  'Cloud3pm',\n",
       "  'Temp9am',\n",
       "  'Temp3pm',\n",
       "  'RainToday'],\n",
       " 'target_col': 'RainTomorrow',\n",
       " 'numeric_cols': ['MinTemp',\n",
       "  'MaxTemp',\n",
       "  'Rainfall',\n",
       "  'Evaporation',\n",
       "  'Sunshine',\n",
       "  'WindGustSpeed',\n",
       "  'WindSpeed9am',\n",
       "  'WindSpeed3pm',\n",
       "  'Humidity9am',\n",
       "  'Humidity3pm',\n",
       "  'Pressure9am',\n",
       "  'Pressure3pm',\n",
       "  'Cloud9am',\n",
       "  'Cloud3pm',\n",
       "  'Temp9am',\n",
       "  'Temp3pm'],\n",
       " 'categorical_cols': ['Location',\n",
       "  'WindGustDir',\n",
       "  'WindDir9am',\n",
       "  'WindDir3pm',\n",
       "  'RainToday'],\n",
       " 'encoded_cols': ['Location_Adelaide',\n",
       "  'Location_Albany',\n",
       "  'Location_Albury',\n",
       "  'Location_AliceSprings',\n",
       "  'Location_BadgerysCreek',\n",
       "  'Location_Ballarat',\n",
       "  'Location_Bendigo',\n",
       "  'Location_Brisbane',\n",
       "  'Location_Cairns',\n",
       "  'Location_Canberra',\n",
       "  'Location_Cobar',\n",
       "  'Location_CoffsHarbour',\n",
       "  'Location_Dartmoor',\n",
       "  'Location_Darwin',\n",
       "  'Location_GoldCoast',\n",
       "  'Location_Hobart',\n",
       "  'Location_Katherine',\n",
       "  'Location_Launceston',\n",
       "  'Location_Melbourne',\n",
       "  'Location_MelbourneAirport',\n",
       "  'Location_Mildura',\n",
       "  'Location_Moree',\n",
       "  'Location_MountGambier',\n",
       "  'Location_MountGinini',\n",
       "  'Location_Newcastle',\n",
       "  'Location_Nhil',\n",
       "  'Location_NorahHead',\n",
       "  'Location_NorfolkIsland',\n",
       "  'Location_Nuriootpa',\n",
       "  'Location_PearceRAAF',\n",
       "  'Location_Penrith',\n",
       "  'Location_Perth',\n",
       "  'Location_PerthAirport',\n",
       "  'Location_Portland',\n",
       "  'Location_Richmond',\n",
       "  'Location_Sale',\n",
       "  'Location_SalmonGums',\n",
       "  'Location_Sydney',\n",
       "  'Location_SydneyAirport',\n",
       "  'Location_Townsville',\n",
       "  'Location_Tuggeranong',\n",
       "  'Location_Uluru',\n",
       "  'Location_WaggaWagga',\n",
       "  'Location_Walpole',\n",
       "  'Location_Watsonia',\n",
       "  'Location_Williamtown',\n",
       "  'Location_Witchcliffe',\n",
       "  'Location_Wollongong',\n",
       "  'Location_Woomera',\n",
       "  'WindGustDir_E',\n",
       "  'WindGustDir_ENE',\n",
       "  'WindGustDir_ESE',\n",
       "  'WindGustDir_N',\n",
       "  'WindGustDir_NE',\n",
       "  'WindGustDir_NNE',\n",
       "  'WindGustDir_NNW',\n",
       "  'WindGustDir_NW',\n",
       "  'WindGustDir_S',\n",
       "  'WindGustDir_SE',\n",
       "  'WindGustDir_SSE',\n",
       "  'WindGustDir_SSW',\n",
       "  'WindGustDir_SW',\n",
       "  'WindGustDir_W',\n",
       "  'WindGustDir_WNW',\n",
       "  'WindGustDir_WSW',\n",
       "  'WindGustDir_nan',\n",
       "  'WindDir9am_E',\n",
       "  'WindDir9am_ENE',\n",
       "  'WindDir9am_ESE',\n",
       "  'WindDir9am_N',\n",
       "  'WindDir9am_NE',\n",
       "  'WindDir9am_NNE',\n",
       "  'WindDir9am_NNW',\n",
       "  'WindDir9am_NW',\n",
       "  'WindDir9am_S',\n",
       "  'WindDir9am_SE',\n",
       "  'WindDir9am_SSE',\n",
       "  'WindDir9am_SSW',\n",
       "  'WindDir9am_SW',\n",
       "  'WindDir9am_W',\n",
       "  'WindDir9am_WNW',\n",
       "  'WindDir9am_WSW',\n",
       "  'WindDir9am_nan',\n",
       "  'WindDir3pm_E',\n",
       "  'WindDir3pm_ENE',\n",
       "  'WindDir3pm_ESE',\n",
       "  'WindDir3pm_N',\n",
       "  'WindDir3pm_NE',\n",
       "  'WindDir3pm_NNE',\n",
       "  'WindDir3pm_NNW',\n",
       "  'WindDir3pm_NW',\n",
       "  'WindDir3pm_S',\n",
       "  'WindDir3pm_SE',\n",
       "  'WindDir3pm_SSE',\n",
       "  'WindDir3pm_SSW',\n",
       "  'WindDir3pm_SW',\n",
       "  'WindDir3pm_W',\n",
       "  'WindDir3pm_WNW',\n",
       "  'WindDir3pm_WSW',\n",
       "  'WindDir3pm_nan',\n",
       "  'RainToday_No',\n",
       "  'RainToday_Yes']}"
      ]
     },
     "execution_count": 19,
     "metadata": {},
     "output_type": "execute_result"
    }
   ],
   "source": [
    "aussie_rain2"
   ]
  },
  {
   "cell_type": "code",
   "execution_count": 15,
   "id": "10bddb1e",
   "metadata": {},
   "outputs": [],
   "source": [
    "new_input = {'Date': '2021-06-19',\n",
    "             'Location': 'Katherine',\n",
    "             'MinTemp': 23.2,\n",
    "             'MaxTemp': 33.2,\n",
    "             'Rainfall': 10.2,\n",
    "             'Evaporation': 4.2,\n",
    "             'Sunshine': np.nan,\n",
    "             'WindGustDir': 'NNW',\n",
    "             'WindGustSpeed': 52.0,\n",
    "             'WindDir9am': 'NW',\n",
    "             'WindDir3pm': 'NNE',\n",
    "             'WindSpeed9am': 13.0,\n",
    "             'WindSpeed3pm': 20.0,\n",
    "             'Humidity9am': 89.0,\n",
    "             'Humidity3pm': 58.0,\n",
    "             'Pressure9am': 1004.8,\n",
    "             'Pressure3pm': 1001.5,\n",
    "             'Cloud9am': 8.0,\n",
    "             'Cloud3pm': 5.0,\n",
    "             'Temp9am': 25.7,\n",
    "             'Temp3pm': 33.0,\n",
    "             'RainToday': 'Yes'}"
   ]
  },
  {
   "cell_type": "code",
   "execution_count": 16,
   "id": "986d913e",
   "metadata": {},
   "outputs": [],
   "source": [
    "def predict_input(single_input):\n",
    "    input_df = pd.DataFrame([single_input])\n",
    "    input_df[aussie_rain2['numeric_cols']] = aussie_rain2['imputer'].transform(input_df[aussie_rain2['numeric_cols']])\n",
    "    input_df[aussie_rain2['numeric_cols']] = aussie_rain2['scaler'].transform(input_df[aussie_rain2['numeric_cols']])\n",
    "    input_df[aussie_rain2['encoded_cols']] = aussie_rain2['encoder'].transform(input_df[aussie_rain2['categorical_cols']])\n",
    "    X_input = input_df[aussie_rain2['numeric_cols'] + aussie_rain2['encoded_cols']]\n",
    "    pred = aussie_rain2['model'].predict(X_input)[0]\n",
    "    prob = aussie_rain2['model'].predict_proba(X_input)[0][list(aussie_rain2['model'].classes_).index(pred)]\n",
    "    return pred, prob"
   ]
  },
  {
   "cell_type": "code",
   "execution_count": 17,
   "id": "c48e9464",
   "metadata": {},
   "outputs": [
    {
     "data": {
      "text/plain": [
       "('Yes', 0.5189715005971175)"
      ]
     },
     "execution_count": 17,
     "metadata": {},
     "output_type": "execute_result"
    }
   ],
   "source": [
    "predict_input(new_input)"
   ]
  },
  {
   "cell_type": "markdown",
   "id": "75f3af6c",
   "metadata": {},
   "source": [
    "#### Let's use the loaded model to make predictions on dataset which was saved in parquet file."
   ]
  },
  {
   "cell_type": "code",
   "execution_count": 20,
   "id": "e77baa6f",
   "metadata": {},
   "outputs": [
    {
     "name": "stdout",
     "output_type": "stream",
     "text": [
      "Wall time: 587 ms\n"
     ]
    }
   ],
   "source": [
    "%%time\n",
    "\n",
    "train_inputs = pd.read_parquet('train_inputs.parquet')\n",
    "valid_inputs = pd.read_parquet('valid_inputs.parquet')\n",
    "test_inputs = pd.read_parquet('test_inputs.parquet')\n",
    "\n",
    "train_targets = pd.read_parquet('train_targets.parquet')[aussie_rain2['target_col']]\n",
    "valid_targets = pd.read_parquet('valid_targets.parquet')[aussie_rain2['target_col']]\n",
    "test_targets = pd.read_parquet('test_targets.parquet')[aussie_rain2['target_col']]"
   ]
  },
  {
   "cell_type": "code",
   "execution_count": 21,
   "id": "aa63669f",
   "metadata": {},
   "outputs": [
    {
     "name": "stdout",
     "output_type": "stream",
     "text": [
      "train_inputs: (97988, 123)\n",
      "train_targets: (97988,)\n",
      "valid_inputs: (17089, 123)\n",
      "valid_targets: (17089,)\n",
      "test_inputs: (25710, 123)\n",
      "test_targets: (25710,)\n"
     ]
    }
   ],
   "source": [
    "# Let's verify that the data was loaded properly.\n",
    "print('train_inputs:', train_inputs.shape)\n",
    "print('train_targets:', train_targets.shape)\n",
    "print('valid_inputs:', valid_inputs.shape)\n",
    "print('valid_targets:', valid_targets.shape)\n",
    "print('test_inputs:', test_inputs.shape)\n",
    "print('test_targets:', test_targets.shape)"
   ]
  },
  {
   "cell_type": "code",
   "execution_count": 22,
   "id": "cc1a6a06",
   "metadata": {},
   "outputs": [],
   "source": [
    "X_train = train_inputs[aussie_rain2['numeric_cols'] + aussie_rain2['encoded_cols']]\n",
    "X_val = valid_inputs[aussie_rain2['numeric_cols'] + aussie_rain2['encoded_cols']]\n",
    "X_test = test_inputs[aussie_rain2['numeric_cols'] + aussie_rain2['encoded_cols']]"
   ]
  },
  {
   "cell_type": "code",
   "execution_count": 27,
   "id": "b9c125c8",
   "metadata": {},
   "outputs": [
    {
     "data": {
      "text/plain": [
       "0.8420070011668611"
      ]
     },
     "execution_count": 27,
     "metadata": {},
     "output_type": "execute_result"
    }
   ],
   "source": [
    "test_preds = aussie_rain2['model'].predict(X_test)\n",
    "accuracy_score(test_targets, test_preds)"
   ]
  },
  {
   "cell_type": "markdown",
   "id": "057372bd",
   "metadata": {},
   "source": [
    "#### END"
   ]
  },
  {
   "cell_type": "code",
   "execution_count": null,
   "id": "c32e745d",
   "metadata": {},
   "outputs": [],
   "source": []
  }
 ],
 "metadata": {
  "kernelspec": {
   "display_name": "Python 3",
   "language": "python",
   "name": "python3"
  },
  "language_info": {
   "codemirror_mode": {
    "name": "ipython",
    "version": 3
   },
   "file_extension": ".py",
   "mimetype": "text/x-python",
   "name": "python",
   "nbconvert_exporter": "python",
   "pygments_lexer": "ipython3",
   "version": "3.8.8"
  }
 },
 "nbformat": 4,
 "nbformat_minor": 5
}
